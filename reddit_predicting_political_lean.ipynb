{
  "cells": [
    {
      "cell_type": "code",
      "execution_count": 2,
      "metadata": {
        "id": "rF4382QIfXae"
      },
      "outputs": [],
      "source": [
        "import numpy as np\n",
        "import pandas as pd\n",
        "from matplotlib import pyplot as plt\n",
        "import seaborn as sns\n",
        "\n",
        "from sklearn.model_selection import train_test_split\n",
        "from sklearn.feature_extraction.text import TfidfVectorizer,  CountVectorizer\n",
        "from sklearn.svm import SVC\n",
        "from sklearn.linear_model import LogisticRegression\n",
        "from sklearn.naive_bayes import MultinomialNB\n",
        "from sklearn.ensemble import RandomForestClassifier\n",
        "from sklearn.neighbors import KNeighborsClassifier\n",
        "from sklearn.metrics import accuracy_score, classification_report\n",
        "import tensorflow as tf\n",
        "import tensorflow_hub as hub\n",
        "\n"
      ]
    },
    {
      "cell_type": "markdown",
      "metadata": {
        "id": "5xjFyYUMebjd"
      },
      "source": [
        "## Exploratory Data Analysis"
      ]
    },
    {
      "cell_type": "markdown",
      "metadata": {
        "id": "h1J607O2fmM0"
      },
      "source": [
        "We will be working with the \"Liberals vs Conservatives on Reddit [13000 posts]\" dataset from Kaggle (Gajare, 2022).\n",
        "\n",
        "After the initial text exploration we determined it will be beneficial to combine Reddit post `Title` and `Text` columns into a single column `Combined_Text` to use for machine learning.\n",
        "\n",
        "Additionally we performed the data cleaning and removed special characters and URLs from the text, that step is stored in the `Cleaned_Text` column."
      ]
    },
    {
      "cell_type": "code",
      "execution_count": 3,
      "metadata": {
        "id": "4NQ0UJbbfUH6"
      },
      "outputs": [],
      "source": [
        "dataset_url = \"https://raw.githubusercontent.com/AAI-501/aai_501_project/main/cleaned_reddit_data.csv\""
      ]
    },
    {
      "cell_type": "code",
      "execution_count": 4,
      "metadata": {
        "colab": {
          "base_uri": "https://localhost:8080/",
          "height": 345
        },
        "id": "NsnraUfsff_1",
        "outputId": "c260a126-a467-4a3b-bc0a-e3ceb7ff15fc"
      },
      "outputs": [
        {
          "data": {
            "text/html": [
              "<div>\n",
              "<style scoped>\n",
              "    .dataframe tbody tr th:only-of-type {\n",
              "        vertical-align: middle;\n",
              "    }\n",
              "\n",
              "    .dataframe tbody tr th {\n",
              "        vertical-align: top;\n",
              "    }\n",
              "\n",
              "    .dataframe thead th {\n",
              "        text-align: right;\n",
              "    }\n",
              "</style>\n",
              "<table border=\"1\" class=\"dataframe\">\n",
              "  <thead>\n",
              "    <tr style=\"text-align: right;\">\n",
              "      <th></th>\n",
              "      <th>Title</th>\n",
              "      <th>Political Lean</th>\n",
              "      <th>Score</th>\n",
              "      <th>Id</th>\n",
              "      <th>Subreddit</th>\n",
              "      <th>URL</th>\n",
              "      <th>Num of Comments</th>\n",
              "      <th>Text</th>\n",
              "      <th>Date Created</th>\n",
              "      <th>Combined_Text</th>\n",
              "      <th>Cleaned_Text</th>\n",
              "    </tr>\n",
              "  </thead>\n",
              "  <tbody>\n",
              "    <tr>\n",
              "      <th>0</th>\n",
              "      <td>No matter who someone is, how they look like, ...</td>\n",
              "      <td>Liberal</td>\n",
              "      <td>1</td>\n",
              "      <td>t5fybt</td>\n",
              "      <td>socialism</td>\n",
              "      <td>https://v.redd.it/ng5fyl7hp2l81</td>\n",
              "      <td>0</td>\n",
              "      <td>NaN</td>\n",
              "      <td>1.646272e+09</td>\n",
              "      <td>No matter who someone is, how they look like, ...</td>\n",
              "      <td>no matter who someone is how they look like wh...</td>\n",
              "    </tr>\n",
              "    <tr>\n",
              "      <th>1</th>\n",
              "      <td>Biden speech draws 38.2 million U.S. TV viewers</td>\n",
              "      <td>Liberal</td>\n",
              "      <td>6</td>\n",
              "      <td>t5fqdn</td>\n",
              "      <td>democrats</td>\n",
              "      <td>https://www.reuters.com/world/us/biden-speech-...</td>\n",
              "      <td>1</td>\n",
              "      <td>NaN</td>\n",
              "      <td>1.646271e+09</td>\n",
              "      <td>Biden speech draws 38.2 million U.S. TV viewers</td>\n",
              "      <td>biden speech draws 382 million us tv viewers</td>\n",
              "    </tr>\n",
              "    <tr>\n",
              "      <th>2</th>\n",
              "      <td>State of the union</td>\n",
              "      <td>Liberal</td>\n",
              "      <td>1</td>\n",
              "      <td>t5fj9a</td>\n",
              "      <td>DemocraticSocialism</td>\n",
              "      <td>https://www.reddit.com/r/DemocraticSocialism/c...</td>\n",
              "      <td>1</td>\n",
              "      <td>Who watched the state of the union last night ...</td>\n",
              "      <td>1.646270e+09</td>\n",
              "      <td>State of the union Who watched the state of th...</td>\n",
              "      <td>state of the union who watched the state of th...</td>\n",
              "    </tr>\n",
              "    <tr>\n",
              "      <th>3</th>\n",
              "      <td>We Should Just Give Poor People Money</td>\n",
              "      <td>Liberal</td>\n",
              "      <td>7</td>\n",
              "      <td>t5f7n9</td>\n",
              "      <td>SocialDemocracy</td>\n",
              "      <td>https://youtu.be/a80kRjpubG0</td>\n",
              "      <td>3</td>\n",
              "      <td>NaN</td>\n",
              "      <td>1.646270e+09</td>\n",
              "      <td>We Should Just Give Poor People Money</td>\n",
              "      <td>we should just give poor people money</td>\n",
              "    </tr>\n",
              "    <tr>\n",
              "      <th>4</th>\n",
              "      <td>Do it for the Dew</td>\n",
              "      <td>Liberal</td>\n",
              "      <td>6</td>\n",
              "      <td>t5es2c</td>\n",
              "      <td>democrats</td>\n",
              "      <td>https://i.redd.it/drmunn90f2l81.jpg</td>\n",
              "      <td>1</td>\n",
              "      <td>NaN</td>\n",
              "      <td>1.646268e+09</td>\n",
              "      <td>Do it for the Dew</td>\n",
              "      <td>do it for the dew</td>\n",
              "    </tr>\n",
              "  </tbody>\n",
              "</table>\n",
              "</div>"
            ],
            "text/plain": [
              "                                               Title Political Lean  Score  \\\n",
              "0  No matter who someone is, how they look like, ...        Liberal      1   \n",
              "1    Biden speech draws 38.2 million U.S. TV viewers        Liberal      6   \n",
              "2                                 State of the union        Liberal      1   \n",
              "3              We Should Just Give Poor People Money        Liberal      7   \n",
              "4                                  Do it for the Dew        Liberal      6   \n",
              "\n",
              "       Id            Subreddit  \\\n",
              "0  t5fybt            socialism   \n",
              "1  t5fqdn            democrats   \n",
              "2  t5fj9a  DemocraticSocialism   \n",
              "3  t5f7n9      SocialDemocracy   \n",
              "4  t5es2c            democrats   \n",
              "\n",
              "                                                 URL  Num of Comments  \\\n",
              "0                    https://v.redd.it/ng5fyl7hp2l81                0   \n",
              "1  https://www.reuters.com/world/us/biden-speech-...                1   \n",
              "2  https://www.reddit.com/r/DemocraticSocialism/c...                1   \n",
              "3                       https://youtu.be/a80kRjpubG0                3   \n",
              "4                https://i.redd.it/drmunn90f2l81.jpg                1   \n",
              "\n",
              "                                                Text  Date Created  \\\n",
              "0                                                NaN  1.646272e+09   \n",
              "1                                                NaN  1.646271e+09   \n",
              "2  Who watched the state of the union last night ...  1.646270e+09   \n",
              "3                                                NaN  1.646270e+09   \n",
              "4                                                NaN  1.646268e+09   \n",
              "\n",
              "                                       Combined_Text  \\\n",
              "0  No matter who someone is, how they look like, ...   \n",
              "1   Biden speech draws 38.2 million U.S. TV viewers    \n",
              "2  State of the union Who watched the state of th...   \n",
              "3             We Should Just Give Poor People Money    \n",
              "4                                 Do it for the Dew    \n",
              "\n",
              "                                        Cleaned_Text  \n",
              "0  no matter who someone is how they look like wh...  \n",
              "1      biden speech draws 382 million us tv viewers   \n",
              "2  state of the union who watched the state of th...  \n",
              "3             we should just give poor people money   \n",
              "4                                 do it for the dew   "
            ]
          },
          "metadata": {},
          "output_type": "display_data"
        }
      ],
      "source": [
        "df = pd.read_csv(dataset_url)\n",
        "display(df.head(5))"
      ]
    },
    {
      "cell_type": "code",
      "execution_count": 5,
      "metadata": {
        "colab": {
          "base_uri": "https://localhost:8080/",
          "height": 300
        },
        "id": "m1-dyaJGfudv",
        "outputId": "5e242464-2ee2-46f3-aa36-d9f69a567d89"
      },
      "outputs": [
        {
          "data": {
            "text/html": [
              "<div>\n",
              "<style scoped>\n",
              "    .dataframe tbody tr th:only-of-type {\n",
              "        vertical-align: middle;\n",
              "    }\n",
              "\n",
              "    .dataframe tbody tr th {\n",
              "        vertical-align: top;\n",
              "    }\n",
              "\n",
              "    .dataframe thead th {\n",
              "        text-align: right;\n",
              "    }\n",
              "</style>\n",
              "<table border=\"1\" class=\"dataframe\">\n",
              "  <thead>\n",
              "    <tr style=\"text-align: right;\">\n",
              "      <th></th>\n",
              "      <th>Score</th>\n",
              "      <th>Num of Comments</th>\n",
              "      <th>Date Created</th>\n",
              "    </tr>\n",
              "  </thead>\n",
              "  <tbody>\n",
              "    <tr>\n",
              "      <th>count</th>\n",
              "      <td>12854.000000</td>\n",
              "      <td>12854.000000</td>\n",
              "      <td>1.285400e+04</td>\n",
              "    </tr>\n",
              "    <tr>\n",
              "      <th>mean</th>\n",
              "      <td>118.558270</td>\n",
              "      <td>19.055936</td>\n",
              "      <td>1.622576e+09</td>\n",
              "    </tr>\n",
              "    <tr>\n",
              "      <th>std</th>\n",
              "      <td>498.888034</td>\n",
              "      <td>60.381567</td>\n",
              "      <td>6.112838e+07</td>\n",
              "    </tr>\n",
              "    <tr>\n",
              "      <th>min</th>\n",
              "      <td>0.000000</td>\n",
              "      <td>0.000000</td>\n",
              "      <td>1.231048e+09</td>\n",
              "    </tr>\n",
              "    <tr>\n",
              "      <th>25%</th>\n",
              "      <td>3.000000</td>\n",
              "      <td>1.000000</td>\n",
              "      <td>1.632132e+09</td>\n",
              "    </tr>\n",
              "    <tr>\n",
              "      <th>50%</th>\n",
              "      <td>12.000000</td>\n",
              "      <td>3.000000</td>\n",
              "      <td>1.642030e+09</td>\n",
              "    </tr>\n",
              "    <tr>\n",
              "      <th>75%</th>\n",
              "      <td>65.000000</td>\n",
              "      <td>15.000000</td>\n",
              "      <td>1.645107e+09</td>\n",
              "    </tr>\n",
              "    <tr>\n",
              "      <th>max</th>\n",
              "      <td>25055.000000</td>\n",
              "      <td>2150.000000</td>\n",
              "      <td>1.646272e+09</td>\n",
              "    </tr>\n",
              "  </tbody>\n",
              "</table>\n",
              "</div>"
            ],
            "text/plain": [
              "              Score  Num of Comments  Date Created\n",
              "count  12854.000000     12854.000000  1.285400e+04\n",
              "mean     118.558270        19.055936  1.622576e+09\n",
              "std      498.888034        60.381567  6.112838e+07\n",
              "min        0.000000         0.000000  1.231048e+09\n",
              "25%        3.000000         1.000000  1.632132e+09\n",
              "50%       12.000000         3.000000  1.642030e+09\n",
              "75%       65.000000        15.000000  1.645107e+09\n",
              "max    25055.000000      2150.000000  1.646272e+09"
            ]
          },
          "execution_count": 5,
          "metadata": {},
          "output_type": "execute_result"
        }
      ],
      "source": [
        "df.describe()"
      ]
    },
    {
      "cell_type": "markdown",
      "metadata": {
        "id": "NnIyzKcAhPEJ"
      },
      "source": [
        "The target column for this dataframe is `Political Lean`, so let's group the data by political lean and see the results."
      ]
    },
    {
      "cell_type": "code",
      "execution_count": 6,
      "metadata": {
        "colab": {
          "base_uri": "https://localhost:8080/"
        },
        "id": "_B2ycVqxoW7e",
        "outputId": "52fee4a2-71db-4b6d-9232-9a507499265f"
      },
      "outputs": [
        {
          "data": {
            "text/plain": [
              "Political Lean\n",
              "Conservative    4535\n",
              "Liberal         8319\n",
              "dtype: int64"
            ]
          },
          "execution_count": 6,
          "metadata": {},
          "output_type": "execute_result"
        }
      ],
      "source": [
        "df.groupby(['Political Lean']).size()"
      ]
    },
    {
      "cell_type": "markdown",
      "metadata": {
        "id": "QOkm4EvchRJT"
      },
      "source": [
        "We have more rows representing `Liberal` political lean, compared to `Concervative`."
      ]
    },
    {
      "cell_type": "code",
      "execution_count": 7,
      "metadata": {
        "colab": {
          "base_uri": "https://localhost:8080/"
        },
        "id": "Z49gcX7VptL9",
        "outputId": "8b85971c-993d-43dc-94d5-be3f1db5fa92"
      },
      "outputs": [
        {
          "data": {
            "text/plain": [
              "Title               object\n",
              "Political Lean      object\n",
              "Score                int64\n",
              "Id                  object\n",
              "Subreddit           object\n",
              "URL                 object\n",
              "Num of Comments      int64\n",
              "Text                object\n",
              "Date Created       float64\n",
              "Combined_Text       object\n",
              "Cleaned_Text        object\n",
              "dtype: object"
            ]
          },
          "execution_count": 7,
          "metadata": {},
          "output_type": "execute_result"
        }
      ],
      "source": [
        "df.dtypes"
      ]
    },
    {
      "cell_type": "code",
      "execution_count": 8,
      "metadata": {
        "colab": {
          "base_uri": "https://localhost:8080/",
          "height": 736
        },
        "id": "fyjAaQwHqY_F",
        "outputId": "4a242002-f0f8-4bd4-b8e1-5b31e9524080"
      },
      "outputs": [
        {
          "data": {
            "text/html": [
              "<div>\n",
              "<style scoped>\n",
              "    .dataframe tbody tr th:only-of-type {\n",
              "        vertical-align: middle;\n",
              "    }\n",
              "\n",
              "    .dataframe tbody tr th {\n",
              "        vertical-align: top;\n",
              "    }\n",
              "\n",
              "    .dataframe thead th {\n",
              "        text-align: right;\n",
              "    }\n",
              "</style>\n",
              "<table border=\"1\" class=\"dataframe\">\n",
              "  <thead>\n",
              "    <tr style=\"text-align: right;\">\n",
              "      <th></th>\n",
              "      <th>Title</th>\n",
              "      <th>Political Lean</th>\n",
              "      <th>Score</th>\n",
              "      <th>Id</th>\n",
              "      <th>Subreddit</th>\n",
              "      <th>URL</th>\n",
              "      <th>Num of Comments</th>\n",
              "      <th>Text</th>\n",
              "      <th>Date Created</th>\n",
              "      <th>Combined_Text</th>\n",
              "      <th>Cleaned_Text</th>\n",
              "    </tr>\n",
              "  </thead>\n",
              "  <tbody>\n",
              "    <tr>\n",
              "      <th>0</th>\n",
              "      <td>No matter who someone is, how they look like, ...</td>\n",
              "      <td>Liberal</td>\n",
              "      <td>1</td>\n",
              "      <td>t5fybt</td>\n",
              "      <td>socialism</td>\n",
              "      <td>https://v.redd.it/ng5fyl7hp2l81</td>\n",
              "      <td>0</td>\n",
              "      <td>NaN</td>\n",
              "      <td>2022-03-03 01:42:57</td>\n",
              "      <td>No matter who someone is, how they look like, ...</td>\n",
              "      <td>no matter who someone is how they look like wh...</td>\n",
              "    </tr>\n",
              "    <tr>\n",
              "      <th>1</th>\n",
              "      <td>Biden speech draws 38.2 million U.S. TV viewers</td>\n",
              "      <td>Liberal</td>\n",
              "      <td>6</td>\n",
              "      <td>t5fqdn</td>\n",
              "      <td>democrats</td>\n",
              "      <td>https://www.reuters.com/world/us/biden-speech-...</td>\n",
              "      <td>1</td>\n",
              "      <td>NaN</td>\n",
              "      <td>2022-03-03 01:31:48</td>\n",
              "      <td>Biden speech draws 38.2 million U.S. TV viewers</td>\n",
              "      <td>biden speech draws 382 million us tv viewers</td>\n",
              "    </tr>\n",
              "    <tr>\n",
              "      <th>2</th>\n",
              "      <td>State of the union</td>\n",
              "      <td>Liberal</td>\n",
              "      <td>1</td>\n",
              "      <td>t5fj9a</td>\n",
              "      <td>DemocraticSocialism</td>\n",
              "      <td>https://www.reddit.com/r/DemocraticSocialism/c...</td>\n",
              "      <td>1</td>\n",
              "      <td>Who watched the state of the union last night ...</td>\n",
              "      <td>2022-03-03 01:21:28</td>\n",
              "      <td>State of the union Who watched the state of th...</td>\n",
              "      <td>state of the union who watched the state of th...</td>\n",
              "    </tr>\n",
              "    <tr>\n",
              "      <th>3</th>\n",
              "      <td>We Should Just Give Poor People Money</td>\n",
              "      <td>Liberal</td>\n",
              "      <td>7</td>\n",
              "      <td>t5f7n9</td>\n",
              "      <td>SocialDemocracy</td>\n",
              "      <td>https://youtu.be/a80kRjpubG0</td>\n",
              "      <td>3</td>\n",
              "      <td>NaN</td>\n",
              "      <td>2022-03-03 01:05:08</td>\n",
              "      <td>We Should Just Give Poor People Money</td>\n",
              "      <td>we should just give poor people money</td>\n",
              "    </tr>\n",
              "    <tr>\n",
              "      <th>4</th>\n",
              "      <td>Do it for the Dew</td>\n",
              "      <td>Liberal</td>\n",
              "      <td>6</td>\n",
              "      <td>t5es2c</td>\n",
              "      <td>democrats</td>\n",
              "      <td>https://i.redd.it/drmunn90f2l81.jpg</td>\n",
              "      <td>1</td>\n",
              "      <td>NaN</td>\n",
              "      <td>2022-03-03 00:43:03</td>\n",
              "      <td>Do it for the Dew</td>\n",
              "      <td>do it for the dew</td>\n",
              "    </tr>\n",
              "    <tr>\n",
              "      <th>...</th>\n",
              "      <td>...</td>\n",
              "      <td>...</td>\n",
              "      <td>...</td>\n",
              "      <td>...</td>\n",
              "      <td>...</td>\n",
              "      <td>...</td>\n",
              "      <td>...</td>\n",
              "      <td>...</td>\n",
              "      <td>...</td>\n",
              "      <td>...</td>\n",
              "      <td>...</td>\n",
              "    </tr>\n",
              "    <tr>\n",
              "      <th>12849</th>\n",
              "      <td>Ron Paul’s Spirited Defense of WikiLeaks &amp; Fre...</td>\n",
              "      <td>Conservative</td>\n",
              "      <td>2</td>\n",
              "      <td>em7rm</td>\n",
              "      <td>anarchocapitalism</td>\n",
              "      <td>http://www.deathandtaxesmag.com/40485/ron-paul...</td>\n",
              "      <td>1</td>\n",
              "      <td>NaN</td>\n",
              "      <td>2010-12-15 13:54:29</td>\n",
              "      <td>Ron Paul’s Spirited Defense of WikiLeaks &amp; Fre...</td>\n",
              "      <td>ron pauls spirited defense of wikileaks  free ...</td>\n",
              "    </tr>\n",
              "    <tr>\n",
              "      <th>12850</th>\n",
              "      <td>“Anarcho-capitalism, in my opinion, is a doctr...</td>\n",
              "      <td>Conservative</td>\n",
              "      <td>2</td>\n",
              "      <td>ei98o</td>\n",
              "      <td>anarchocapitalism</td>\n",
              "      <td>http://www.pressaction.com/news/weblog/full_ar...</td>\n",
              "      <td>1</td>\n",
              "      <td>NaN</td>\n",
              "      <td>2010-12-08 12:53:14</td>\n",
              "      <td>“Anarcho-capitalism, in my opinion, is a doctr...</td>\n",
              "      <td>anarchocapitalism in my opinion is a doctrinal...</td>\n",
              "    </tr>\n",
              "    <tr>\n",
              "      <th>12851</th>\n",
              "      <td>Mises Wiki is a wiki project dedicated to the ...</td>\n",
              "      <td>Conservative</td>\n",
              "      <td>2</td>\n",
              "      <td>e6x22</td>\n",
              "      <td>anarchocapitalism</td>\n",
              "      <td>http://wiki.mises.org/wiki/Main_Page</td>\n",
              "      <td>0</td>\n",
              "      <td>NaN</td>\n",
              "      <td>2010-11-16 12:17:27</td>\n",
              "      <td>Mises Wiki is a wiki project dedicated to the ...</td>\n",
              "      <td>mises wiki is a wiki project dedicated to the ...</td>\n",
              "    </tr>\n",
              "    <tr>\n",
              "      <th>12852</th>\n",
              "      <td>Fireman Protection Monopoly - Is This Failed C...</td>\n",
              "      <td>Conservative</td>\n",
              "      <td>2</td>\n",
              "      <td>e4vtd</td>\n",
              "      <td>anarchocapitalism</td>\n",
              "      <td>http://www.csmonitor.com/Business/Mises-Econom...</td>\n",
              "      <td>0</td>\n",
              "      <td>NaN</td>\n",
              "      <td>2010-11-12 01:00:34</td>\n",
              "      <td>Fireman Protection Monopoly - Is This Failed C...</td>\n",
              "      <td>fireman protection monopoly  is this failed ca...</td>\n",
              "    </tr>\n",
              "    <tr>\n",
              "      <th>12853</th>\n",
              "      <td>Can this Wikipedia Article be Better Written?</td>\n",
              "      <td>Conservative</td>\n",
              "      <td>2</td>\n",
              "      <td>e00j6</td>\n",
              "      <td>anarchocapitalism</td>\n",
              "      <td>https://www.reddit.com/r/anarchocapitalism/com...</td>\n",
              "      <td>0</td>\n",
              "      <td>I go to the mises.org and listen to the writin...</td>\n",
              "      <td>2010-11-02 12:49:10</td>\n",
              "      <td>Can this Wikipedia Article be Better Written? ...</td>\n",
              "      <td>can this wikipedia article be better written i...</td>\n",
              "    </tr>\n",
              "  </tbody>\n",
              "</table>\n",
              "<p>12854 rows × 11 columns</p>\n",
              "</div>"
            ],
            "text/plain": [
              "                                                   Title Political Lean  \\\n",
              "0      No matter who someone is, how they look like, ...        Liberal   \n",
              "1        Biden speech draws 38.2 million U.S. TV viewers        Liberal   \n",
              "2                                     State of the union        Liberal   \n",
              "3                  We Should Just Give Poor People Money        Liberal   \n",
              "4                                      Do it for the Dew        Liberal   \n",
              "...                                                  ...            ...   \n",
              "12849  Ron Paul’s Spirited Defense of WikiLeaks & Fre...   Conservative   \n",
              "12850  “Anarcho-capitalism, in my opinion, is a doctr...   Conservative   \n",
              "12851  Mises Wiki is a wiki project dedicated to the ...   Conservative   \n",
              "12852  Fireman Protection Monopoly - Is This Failed C...   Conservative   \n",
              "12853      Can this Wikipedia Article be Better Written?   Conservative   \n",
              "\n",
              "       Score      Id            Subreddit  \\\n",
              "0          1  t5fybt            socialism   \n",
              "1          6  t5fqdn            democrats   \n",
              "2          1  t5fj9a  DemocraticSocialism   \n",
              "3          7  t5f7n9      SocialDemocracy   \n",
              "4          6  t5es2c            democrats   \n",
              "...      ...     ...                  ...   \n",
              "12849      2   em7rm    anarchocapitalism   \n",
              "12850      2   ei98o    anarchocapitalism   \n",
              "12851      2   e6x22    anarchocapitalism   \n",
              "12852      2   e4vtd    anarchocapitalism   \n",
              "12853      2   e00j6    anarchocapitalism   \n",
              "\n",
              "                                                     URL  Num of Comments  \\\n",
              "0                        https://v.redd.it/ng5fyl7hp2l81                0   \n",
              "1      https://www.reuters.com/world/us/biden-speech-...                1   \n",
              "2      https://www.reddit.com/r/DemocraticSocialism/c...                1   \n",
              "3                           https://youtu.be/a80kRjpubG0                3   \n",
              "4                    https://i.redd.it/drmunn90f2l81.jpg                1   \n",
              "...                                                  ...              ...   \n",
              "12849  http://www.deathandtaxesmag.com/40485/ron-paul...                1   \n",
              "12850  http://www.pressaction.com/news/weblog/full_ar...                1   \n",
              "12851               http://wiki.mises.org/wiki/Main_Page                0   \n",
              "12852  http://www.csmonitor.com/Business/Mises-Econom...                0   \n",
              "12853  https://www.reddit.com/r/anarchocapitalism/com...                0   \n",
              "\n",
              "                                                    Text        Date Created  \\\n",
              "0                                                    NaN 2022-03-03 01:42:57   \n",
              "1                                                    NaN 2022-03-03 01:31:48   \n",
              "2      Who watched the state of the union last night ... 2022-03-03 01:21:28   \n",
              "3                                                    NaN 2022-03-03 01:05:08   \n",
              "4                                                    NaN 2022-03-03 00:43:03   \n",
              "...                                                  ...                 ...   \n",
              "12849                                                NaN 2010-12-15 13:54:29   \n",
              "12850                                                NaN 2010-12-08 12:53:14   \n",
              "12851                                                NaN 2010-11-16 12:17:27   \n",
              "12852                                                NaN 2010-11-12 01:00:34   \n",
              "12853  I go to the mises.org and listen to the writin... 2010-11-02 12:49:10   \n",
              "\n",
              "                                           Combined_Text  \\\n",
              "0      No matter who someone is, how they look like, ...   \n",
              "1       Biden speech draws 38.2 million U.S. TV viewers    \n",
              "2      State of the union Who watched the state of th...   \n",
              "3                 We Should Just Give Poor People Money    \n",
              "4                                     Do it for the Dew    \n",
              "...                                                  ...   \n",
              "12849  Ron Paul’s Spirited Defense of WikiLeaks & Fre...   \n",
              "12850  “Anarcho-capitalism, in my opinion, is a doctr...   \n",
              "12851  Mises Wiki is a wiki project dedicated to the ...   \n",
              "12852  Fireman Protection Monopoly - Is This Failed C...   \n",
              "12853  Can this Wikipedia Article be Better Written? ...   \n",
              "\n",
              "                                            Cleaned_Text  \n",
              "0      no matter who someone is how they look like wh...  \n",
              "1          biden speech draws 382 million us tv viewers   \n",
              "2      state of the union who watched the state of th...  \n",
              "3                 we should just give poor people money   \n",
              "4                                     do it for the dew   \n",
              "...                                                  ...  \n",
              "12849  ron pauls spirited defense of wikileaks  free ...  \n",
              "12850  anarchocapitalism in my opinion is a doctrinal...  \n",
              "12851  mises wiki is a wiki project dedicated to the ...  \n",
              "12852  fireman protection monopoly  is this failed ca...  \n",
              "12853  can this wikipedia article be better written i...  \n",
              "\n",
              "[12854 rows x 11 columns]"
            ]
          },
          "execution_count": 8,
          "metadata": {},
          "output_type": "execute_result"
        }
      ],
      "source": [
        "df = df.dropna(subset=['Cleaned_Text']).loc[df['Cleaned_Text'] != '']\n",
        "df['Date Created'] = pd.to_datetime(df['Date Created'],unit='s')\n",
        "df"
      ]
    },
    {
      "cell_type": "code",
      "execution_count": 9,
      "metadata": {
        "colab": {
          "base_uri": "https://localhost:8080/",
          "height": 430
        },
        "id": "zumjcrG3kbbX",
        "outputId": "03c887cd-df11-4381-e3e2-59077819abca"
      },
      "outputs": [
        {
          "data": {
            "image/png": "[encoded data removed]",
            "text/plain": [
              "<Figure size 640x480 with 1 Axes>"
            ]
          },
          "metadata": {},
          "output_type": "display_data"
        }
      ],
      "source": [
        "df.groupby('Political Lean').size().plot(kind='barh', color=sns.palettes.mpl_palette('Dark2'))\n",
        "plt.gca().spines[['top', 'right',]].set_visible(False)"
      ]
    },
    {
      "cell_type": "code",
      "execution_count": 10,
      "metadata": {
        "colab": {
          "base_uri": "https://localhost:8080/",
          "height": 472
        },
        "id": "a-csUiDZjxYC",
        "outputId": "95162348-a487-4eba-ad22-92cc75c0aa60"
      },
      "outputs": [
        {
          "data": {
            "image/png": "[encoded data removed]",
            "text/plain": [
              "<Figure size 640x480 with 1 Axes>"
            ]
          },
          "metadata": {},
          "output_type": "display_data"
        }
      ],
      "source": [
        "# Plotting the histogram\n",
        "plt.hist(df['Date Created'], bins=30, color='skyblue', edgecolor='black')\n",
        "\n",
        "# Adding labels and title\n",
        "plt.title('Histogram Example')\n",
        "plt.xlabel('Values')\n",
        "plt.ylabel('Frequency')\n",
        "\n",
        "# Display the plot\n",
        "plt.show()"
      ]
    },
    {
      "cell_type": "code",
      "execution_count": 11,
      "metadata": {
        "colab": {
          "base_uri": "https://localhost:8080/",
          "height": 34
        },
        "id": "qKJsaJQnk_rP",
        "outputId": "6dc4e3a0-79b1-49e4-c52f-2f791c870617"
      },
      "outputs": [
        {
          "data": {
            "text/plain": [
              "1523948"
            ]
          },
          "metadata": {},
          "output_type": "display_data"
        }
      ],
      "source": [
        "display(df['Score'].sum())\n",
        "\n"
      ]
    },
    {
      "cell_type": "markdown",
      "metadata": {
        "id": "rdNoWpY3lGvG"
      },
      "source": [
        "## Comparative Vectorization and Model Analysis\n"
      ]
    },
    {
      "cell_type": "code",
      "execution_count": 12,
      "metadata": {
        "id": "Lyi1W7occL8A"
      },
      "outputs": [],
      "source": [
        "def train_and_evaluate_logit(X_train, X_test, y_train, y_test, random_state=42):\n",
        "    logreg = LogisticRegression(random_state=random_state)\n",
        "    logreg.fit(X_train, y_train)\n",
        "    y_pred = logreg.predict(X_test)\n",
        "\n",
        "    report_df = pd.DataFrame(classification_report(y_test, y_pred, output_dict=True)).transpose()\n",
        "    return report_df\n",
        "\n",
        "def train_and_evaluate_svm(X_train, X_test, y_train, y_test, random_state=42):\n",
        "    svm_classifier = SVC(random_state=random_state)\n",
        "    svm_classifier.fit(X_train, y_train)\n",
        "    y_pred = svm_classifier.predict(X_test)\n",
        "\n",
        "    report_df = pd.DataFrame(classification_report(y_test, y_pred, output_dict=True)).transpose()\n",
        "    return report_df\n",
        "\n",
        "def train_and_evaluate_nb(X_train, X_test, y_train, y_test):\n",
        "    # Training a Multinomial Naive Bayes classifier\n",
        "\n",
        "    # Find the minimum value in the training set\n",
        "    min_val = np.min(X_train)\n",
        "\n",
        "    # Shift the data to make all values non-negative\n",
        "    if min_val < 0:\n",
        "        X_train += abs(min_val)\n",
        "        X_test += abs(min_val)\n",
        "\n",
        "    # Create and train the classifier\n",
        "    nb_classifier = MultinomialNB()\n",
        "    nb_classifier.fit(X_train, y_train)\n",
        "\n",
        "    # Make predictions and evaluate\n",
        "    y_pred = nb_classifier.predict(X_test)\n",
        "    report = classification_report(y_test, y_pred, output_dict=True)\n",
        "\n",
        "    return pd.DataFrame(report).transpose()\n",
        "\n",
        "def train_and_evaluate_knn(X_train, X_test, y_train, y_test, n_neighbors=5):\n",
        "    knn_classifier = KNeighborsClassifier(n_neighbors=n_neighbors)\n",
        "    knn_classifier.fit(X_train, y_train)\n",
        "    y_pred = knn_classifier.predict(X_test)\n",
        "\n",
        "    report_df = pd.DataFrame(classification_report(y_test, y_pred, output_dict=True)).transpose()\n",
        "    return report_df\n",
        "\n",
        "\n",
        "def train_and_evaluate_rand_forest(X_train, X_test, y_train, y_test):\n",
        "    rand_forest_classifier = RandomForestClassifier()\n",
        "    rand_forest_classifier.fit(X_train, y_train)\n",
        "    y_pred = rand_forest_classifier.predict(X_test)\n",
        "\n",
        "    report_df = pd.DataFrame(classification_report(y_test, y_pred, output_dict=True)).transpose()\n",
        "    return report_df\n",
        "\n",
        "\n",
        "results = {\n",
        "    'TfidfVectorizer': {},\n",
        "    'CountVectorizer':{},\n",
        "    'USE':{}\n",
        "}"
      ]
    },
    {
      "cell_type": "code",
      "execution_count": 13,
      "metadata": {
        "id": "vazjbR_vXf2Q"
      },
      "outputs": [],
      "source": [
        "# X is the 'Cleaned_Text' column, y is the 'Political Lean' column\n",
        "X = df['Cleaned_Text']\n",
        "y = df['Political Lean']\n",
        "\n",
        "# Split the data into training and testing sets\n",
        "X_train, X_test, y_train, y_test = train_test_split(X, y, test_size=0.2, random_state=42)\n",
        "\n",
        "# TfidfVectorizer\n",
        "vectorizer = TfidfVectorizer()\n",
        "X_train_vectorized = vectorizer.fit_transform(X_train)\n",
        "X_test_vectorized = vectorizer.transform(X_test)\n",
        "\n",
        "# CountVectorizer\n",
        "vectorizer_count = CountVectorizer()\n",
        "X_train_count = vectorizer_count.fit_transform(X_train)\n",
        "X_test_count = vectorizer_count.transform(X_test)\n",
        "\n",
        "# Universal Sentence Encoder\n",
        "embed = hub.load(\"https://tfhub.dev/google/universal-sentence-encoder/4\")\n",
        "X_train_embeddings = embed(X_train)\n",
        "X_test_embeddings = embed(X_test)\n"
      ]
    },
    {
      "cell_type": "markdown",
      "metadata": {
        "id": "iGrLo7-qpYT9"
      },
      "source": [
        "# Models"
      ]
    },
    {
      "cell_type": "code",
      "execution_count": 14,
      "metadata": {
        "colab": {
          "base_uri": "https://localhost:8080/",
          "height": 206
        },
        "id": "0Pkq1pmkdwAa",
        "outputId": "a8115b66-cbd5-4830-e96f-dfb00e99fc91"
      },
      "outputs": [
        {
          "data": {
            "text/html": [
              "<div>\n",
              "<style scoped>\n",
              "    .dataframe tbody tr th:only-of-type {\n",
              "        vertical-align: middle;\n",
              "    }\n",
              "\n",
              "    .dataframe tbody tr th {\n",
              "        vertical-align: top;\n",
              "    }\n",
              "\n",
              "    .dataframe thead th {\n",
              "        text-align: right;\n",
              "    }\n",
              "</style>\n",
              "<table border=\"1\" class=\"dataframe\">\n",
              "  <thead>\n",
              "    <tr style=\"text-align: right;\">\n",
              "      <th></th>\n",
              "      <th>precision</th>\n",
              "      <th>recall</th>\n",
              "      <th>f1-score</th>\n",
              "      <th>support</th>\n",
              "    </tr>\n",
              "  </thead>\n",
              "  <tbody>\n",
              "    <tr>\n",
              "      <th>Conservative</th>\n",
              "      <td>0.815356</td>\n",
              "      <td>0.488499</td>\n",
              "      <td>0.610959</td>\n",
              "      <td>913.000000</td>\n",
              "    </tr>\n",
              "    <tr>\n",
              "      <th>Liberal</th>\n",
              "      <td>0.769269</td>\n",
              "      <td>0.939083</td>\n",
              "      <td>0.845736</td>\n",
              "      <td>1658.000000</td>\n",
              "    </tr>\n",
              "    <tr>\n",
              "      <th>accuracy</th>\n",
              "      <td>0.779074</td>\n",
              "      <td>0.779074</td>\n",
              "      <td>0.779074</td>\n",
              "      <td>0.779074</td>\n",
              "    </tr>\n",
              "    <tr>\n",
              "      <th>macro avg</th>\n",
              "      <td>0.792313</td>\n",
              "      <td>0.713791</td>\n",
              "      <td>0.728347</td>\n",
              "      <td>2571.000000</td>\n",
              "    </tr>\n",
              "    <tr>\n",
              "      <th>weighted avg</th>\n",
              "      <td>0.785635</td>\n",
              "      <td>0.779074</td>\n",
              "      <td>0.762363</td>\n",
              "      <td>2571.000000</td>\n",
              "    </tr>\n",
              "  </tbody>\n",
              "</table>\n",
              "</div>"
            ],
            "text/plain": [
              "              precision    recall  f1-score      support\n",
              "Conservative   0.815356  0.488499  0.610959   913.000000\n",
              "Liberal        0.769269  0.939083  0.845736  1658.000000\n",
              "accuracy       0.779074  0.779074  0.779074     0.779074\n",
              "macro avg      0.792313  0.713791  0.728347  2571.000000\n",
              "weighted avg   0.785635  0.779074  0.762363  2571.000000"
            ]
          },
          "metadata": {},
          "output_type": "display_data"
        }
      ],
      "source": [
        "# SVM + TfidfVectorizer\n",
        "results['TfidfVectorizer']['SVM'] = train_and_evaluate_svm(X_train_vectorized, X_test_vectorized, y_train, y_test)\n",
        "display(results['TfidfVectorizer']['SVM'])"
      ]
    },
    {
      "cell_type": "code",
      "execution_count": 15,
      "metadata": {
        "colab": {
          "base_uri": "https://localhost:8080/",
          "height": 206
        },
        "id": "l3VxX1kkeJ0l",
        "outputId": "3302ba30-164b-4645-8217-e8e3d5254a25"
      },
      "outputs": [
        {
          "data": {
            "text/html": [
              "<div>\n",
              "<style scoped>\n",
              "    .dataframe tbody tr th:only-of-type {\n",
              "        vertical-align: middle;\n",
              "    }\n",
              "\n",
              "    .dataframe tbody tr th {\n",
              "        vertical-align: top;\n",
              "    }\n",
              "\n",
              "    .dataframe thead th {\n",
              "        text-align: right;\n",
              "    }\n",
              "</style>\n",
              "<table border=\"1\" class=\"dataframe\">\n",
              "  <thead>\n",
              "    <tr style=\"text-align: right;\">\n",
              "      <th></th>\n",
              "      <th>precision</th>\n",
              "      <th>recall</th>\n",
              "      <th>f1-score</th>\n",
              "      <th>support</th>\n",
              "    </tr>\n",
              "  </thead>\n",
              "  <tbody>\n",
              "    <tr>\n",
              "      <th>Conservative</th>\n",
              "      <td>0.724138</td>\n",
              "      <td>0.069003</td>\n",
              "      <td>0.126000</td>\n",
              "      <td>913.000000</td>\n",
              "    </tr>\n",
              "    <tr>\n",
              "      <th>Liberal</th>\n",
              "      <td>0.657810</td>\n",
              "      <td>0.985525</td>\n",
              "      <td>0.788991</td>\n",
              "      <td>1658.000000</td>\n",
              "    </tr>\n",
              "    <tr>\n",
              "      <th>accuracy</th>\n",
              "      <td>0.660054</td>\n",
              "      <td>0.660054</td>\n",
              "      <td>0.660054</td>\n",
              "      <td>0.660054</td>\n",
              "    </tr>\n",
              "    <tr>\n",
              "      <th>macro avg</th>\n",
              "      <td>0.690974</td>\n",
              "      <td>0.527264</td>\n",
              "      <td>0.457495</td>\n",
              "      <td>2571.000000</td>\n",
              "    </tr>\n",
              "    <tr>\n",
              "      <th>weighted avg</th>\n",
              "      <td>0.681364</td>\n",
              "      <td>0.660054</td>\n",
              "      <td>0.553553</td>\n",
              "      <td>2571.000000</td>\n",
              "    </tr>\n",
              "  </tbody>\n",
              "</table>\n",
              "</div>"
            ],
            "text/plain": [
              "              precision    recall  f1-score      support\n",
              "Conservative   0.724138  0.069003  0.126000   913.000000\n",
              "Liberal        0.657810  0.985525  0.788991  1658.000000\n",
              "accuracy       0.660054  0.660054  0.660054     0.660054\n",
              "macro avg      0.690974  0.527264  0.457495  2571.000000\n",
              "weighted avg   0.681364  0.660054  0.553553  2571.000000"
            ]
          },
          "metadata": {},
          "output_type": "display_data"
        }
      ],
      "source": [
        "# SVM + CountVectorizer\n",
        "results['CountVectorizer']['SVM'] = train_and_evaluate_svm(X_train_count, X_test_count, y_train, y_test)\n",
        "display(results['CountVectorizer']['SVM'])"
      ]
    },
    {
      "cell_type": "code",
      "execution_count": 16,
      "metadata": {
        "colab": {
          "base_uri": "https://localhost:8080/",
          "height": 206
        },
        "id": "sz09CgTnaSnz",
        "outputId": "b8887bf7-f252-402b-aeec-1753b16ee71b"
      },
      "outputs": [
        {
          "data": {
            "text/html": [
              "<div>\n",
              "<style scoped>\n",
              "    .dataframe tbody tr th:only-of-type {\n",
              "        vertical-align: middle;\n",
              "    }\n",
              "\n",
              "    .dataframe tbody tr th {\n",
              "        vertical-align: top;\n",
              "    }\n",
              "\n",
              "    .dataframe thead th {\n",
              "        text-align: right;\n",
              "    }\n",
              "</style>\n",
              "<table border=\"1\" class=\"dataframe\">\n",
              "  <thead>\n",
              "    <tr style=\"text-align: right;\">\n",
              "      <th></th>\n",
              "      <th>precision</th>\n",
              "      <th>recall</th>\n",
              "      <th>f1-score</th>\n",
              "      <th>support</th>\n",
              "    </tr>\n",
              "  </thead>\n",
              "  <tbody>\n",
              "    <tr>\n",
              "      <th>Conservative</th>\n",
              "      <td>0.756469</td>\n",
              "      <td>0.544359</td>\n",
              "      <td>0.633121</td>\n",
              "      <td>913.000000</td>\n",
              "    </tr>\n",
              "    <tr>\n",
              "      <th>Liberal</th>\n",
              "      <td>0.782654</td>\n",
              "      <td>0.903498</td>\n",
              "      <td>0.838746</td>\n",
              "      <td>1658.000000</td>\n",
              "    </tr>\n",
              "    <tr>\n",
              "      <th>accuracy</th>\n",
              "      <td>0.775963</td>\n",
              "      <td>0.775963</td>\n",
              "      <td>0.775963</td>\n",
              "      <td>0.775963</td>\n",
              "    </tr>\n",
              "    <tr>\n",
              "      <th>macro avg</th>\n",
              "      <td>0.769561</td>\n",
              "      <td>0.723929</td>\n",
              "      <td>0.735933</td>\n",
              "      <td>2571.000000</td>\n",
              "    </tr>\n",
              "    <tr>\n",
              "      <th>weighted avg</th>\n",
              "      <td>0.773355</td>\n",
              "      <td>0.775963</td>\n",
              "      <td>0.765725</td>\n",
              "      <td>2571.000000</td>\n",
              "    </tr>\n",
              "  </tbody>\n",
              "</table>\n",
              "</div>"
            ],
            "text/plain": [
              "              precision    recall  f1-score      support\n",
              "Conservative   0.756469  0.544359  0.633121   913.000000\n",
              "Liberal        0.782654  0.903498  0.838746  1658.000000\n",
              "accuracy       0.775963  0.775963  0.775963     0.775963\n",
              "macro avg      0.769561  0.723929  0.735933  2571.000000\n",
              "weighted avg   0.773355  0.775963  0.765725  2571.000000"
            ]
          },
          "metadata": {},
          "output_type": "display_data"
        }
      ],
      "source": [
        "# SVM + Universal Sentence Encoder\n",
        "results['USE']['SVM'] = train_and_evaluate_svm(X_train_embeddings.numpy(),X_test_embeddings.numpy(), y_train, y_test)\n",
        "display(results['USE']['SVM'] )"
      ]
    },
    {
      "cell_type": "code",
      "execution_count": 17,
      "metadata": {
        "colab": {
          "base_uri": "https://localhost:8080/",
          "height": 206
        },
        "id": "NivcdWHTaahy",
        "outputId": "18c999cc-962e-4707-fbd6-5ca4f14bac58"
      },
      "outputs": [
        {
          "data": {
            "text/html": [
              "<div>\n",
              "<style scoped>\n",
              "    .dataframe tbody tr th:only-of-type {\n",
              "        vertical-align: middle;\n",
              "    }\n",
              "\n",
              "    .dataframe tbody tr th {\n",
              "        vertical-align: top;\n",
              "    }\n",
              "\n",
              "    .dataframe thead th {\n",
              "        text-align: right;\n",
              "    }\n",
              "</style>\n",
              "<table border=\"1\" class=\"dataframe\">\n",
              "  <thead>\n",
              "    <tr style=\"text-align: right;\">\n",
              "      <th></th>\n",
              "      <th>precision</th>\n",
              "      <th>recall</th>\n",
              "      <th>f1-score</th>\n",
              "      <th>support</th>\n",
              "    </tr>\n",
              "  </thead>\n",
              "  <tbody>\n",
              "    <tr>\n",
              "      <th>Conservative</th>\n",
              "      <td>0.907834</td>\n",
              "      <td>0.215772</td>\n",
              "      <td>0.348673</td>\n",
              "      <td>913.00000</td>\n",
              "    </tr>\n",
              "    <tr>\n",
              "      <th>Liberal</th>\n",
              "      <td>0.695837</td>\n",
              "      <td>0.987937</td>\n",
              "      <td>0.816550</td>\n",
              "      <td>1658.00000</td>\n",
              "    </tr>\n",
              "    <tr>\n",
              "      <th>accuracy</th>\n",
              "      <td>0.713730</td>\n",
              "      <td>0.713730</td>\n",
              "      <td>0.713730</td>\n",
              "      <td>0.71373</td>\n",
              "    </tr>\n",
              "    <tr>\n",
              "      <th>macro avg</th>\n",
              "      <td>0.801835</td>\n",
              "      <td>0.601855</td>\n",
              "      <td>0.582611</td>\n",
              "      <td>2571.00000</td>\n",
              "    </tr>\n",
              "    <tr>\n",
              "      <th>weighted avg</th>\n",
              "      <td>0.771120</td>\n",
              "      <td>0.713730</td>\n",
              "      <td>0.650400</td>\n",
              "      <td>2571.00000</td>\n",
              "    </tr>\n",
              "  </tbody>\n",
              "</table>\n",
              "</div>"
            ],
            "text/plain": [
              "              precision    recall  f1-score     support\n",
              "Conservative   0.907834  0.215772  0.348673   913.00000\n",
              "Liberal        0.695837  0.987937  0.816550  1658.00000\n",
              "accuracy       0.713730  0.713730  0.713730     0.71373\n",
              "macro avg      0.801835  0.601855  0.582611  2571.00000\n",
              "weighted avg   0.771120  0.713730  0.650400  2571.00000"
            ]
          },
          "metadata": {},
          "output_type": "display_data"
        }
      ],
      "source": [
        "# Naive Bayes + TfidfVectorizer\n",
        "results['TfidfVectorizer']['NB']  = train_and_evaluate_nb(X_train_vectorized, X_test_vectorized, y_train, y_test)\n",
        "display(results['TfidfVectorizer']['NB'] )"
      ]
    },
    {
      "cell_type": "code",
      "execution_count": 18,
      "metadata": {
        "colab": {
          "base_uri": "https://localhost:8080/",
          "height": 206
        },
        "id": "RnEGAKXleVb8",
        "outputId": "47fab069-41ea-4f9d-ef82-ea1cd5e0b048"
      },
      "outputs": [
        {
          "data": {
            "text/html": [
              "<div>\n",
              "<style scoped>\n",
              "    .dataframe tbody tr th:only-of-type {\n",
              "        vertical-align: middle;\n",
              "    }\n",
              "\n",
              "    .dataframe tbody tr th {\n",
              "        vertical-align: top;\n",
              "    }\n",
              "\n",
              "    .dataframe thead th {\n",
              "        text-align: right;\n",
              "    }\n",
              "</style>\n",
              "<table border=\"1\" class=\"dataframe\">\n",
              "  <thead>\n",
              "    <tr style=\"text-align: right;\">\n",
              "      <th></th>\n",
              "      <th>precision</th>\n",
              "      <th>recall</th>\n",
              "      <th>f1-score</th>\n",
              "      <th>support</th>\n",
              "    </tr>\n",
              "  </thead>\n",
              "  <tbody>\n",
              "    <tr>\n",
              "      <th>Conservative</th>\n",
              "      <td>0.693333</td>\n",
              "      <td>0.626506</td>\n",
              "      <td>0.658228</td>\n",
              "      <td>913.000000</td>\n",
              "    </tr>\n",
              "    <tr>\n",
              "      <th>Liberal</th>\n",
              "      <td>0.804696</td>\n",
              "      <td>0.847407</td>\n",
              "      <td>0.825499</td>\n",
              "      <td>1658.000000</td>\n",
              "    </tr>\n",
              "    <tr>\n",
              "      <th>accuracy</th>\n",
              "      <td>0.768961</td>\n",
              "      <td>0.768961</td>\n",
              "      <td>0.768961</td>\n",
              "      <td>0.768961</td>\n",
              "    </tr>\n",
              "    <tr>\n",
              "      <th>macro avg</th>\n",
              "      <td>0.749015</td>\n",
              "      <td>0.736956</td>\n",
              "      <td>0.741864</td>\n",
              "      <td>2571.000000</td>\n",
              "    </tr>\n",
              "    <tr>\n",
              "      <th>weighted avg</th>\n",
              "      <td>0.765150</td>\n",
              "      <td>0.768961</td>\n",
              "      <td>0.766099</td>\n",
              "      <td>2571.000000</td>\n",
              "    </tr>\n",
              "  </tbody>\n",
              "</table>\n",
              "</div>"
            ],
            "text/plain": [
              "              precision    recall  f1-score      support\n",
              "Conservative   0.693333  0.626506  0.658228   913.000000\n",
              "Liberal        0.804696  0.847407  0.825499  1658.000000\n",
              "accuracy       0.768961  0.768961  0.768961     0.768961\n",
              "macro avg      0.749015  0.736956  0.741864  2571.000000\n",
              "weighted avg   0.765150  0.768961  0.766099  2571.000000"
            ]
          },
          "metadata": {},
          "output_type": "display_data"
        }
      ],
      "source": [
        "# Naive Bayes + CountVectorizer\n",
        "results['CountVectorizer']['NB']  = train_and_evaluate_nb(X_train_count, X_test_count, y_train, y_test)\n",
        "display(results['CountVectorizer']['NB'])"
      ]
    },
    {
      "cell_type": "code",
      "execution_count": 19,
      "metadata": {
        "colab": {
          "base_uri": "https://localhost:8080/",
          "height": 330
        },
        "id": "xUSUwHA_pYT9",
        "outputId": "c5f2b81e-04f3-4aa9-ee6b-de27a1fb844b"
      },
      "outputs": [
        {
          "name": "stderr",
          "output_type": "stream",
          "text": [
            "/Users/kseniakoldaeva/anaconda3/lib/python3.11/site-packages/sklearn/metrics/_classification.py:1469: UndefinedMetricWarning: Precision and F-score are ill-defined and being set to 0.0 in labels with no predicted samples. Use `zero_division` parameter to control this behavior.\n",
            "  _warn_prf(average, modifier, msg_start, len(result))\n",
            "/Users/kseniakoldaeva/anaconda3/lib/python3.11/site-packages/sklearn/metrics/_classification.py:1469: UndefinedMetricWarning: Precision and F-score are ill-defined and being set to 0.0 in labels with no predicted samples. Use `zero_division` parameter to control this behavior.\n",
            "  _warn_prf(average, modifier, msg_start, len(result))\n",
            "/Users/kseniakoldaeva/anaconda3/lib/python3.11/site-packages/sklearn/metrics/_classification.py:1469: UndefinedMetricWarning: Precision and F-score are ill-defined and being set to 0.0 in labels with no predicted samples. Use `zero_division` parameter to control this behavior.\n",
            "  _warn_prf(average, modifier, msg_start, len(result))\n"
          ]
        },
        {
          "data": {
            "text/html": [
              "<div>\n",
              "<style scoped>\n",
              "    .dataframe tbody tr th:only-of-type {\n",
              "        vertical-align: middle;\n",
              "    }\n",
              "\n",
              "    .dataframe tbody tr th {\n",
              "        vertical-align: top;\n",
              "    }\n",
              "\n",
              "    .dataframe thead th {\n",
              "        text-align: right;\n",
              "    }\n",
              "</style>\n",
              "<table border=\"1\" class=\"dataframe\">\n",
              "  <thead>\n",
              "    <tr style=\"text-align: right;\">\n",
              "      <th></th>\n",
              "      <th>precision</th>\n",
              "      <th>recall</th>\n",
              "      <th>f1-score</th>\n",
              "      <th>support</th>\n",
              "    </tr>\n",
              "  </thead>\n",
              "  <tbody>\n",
              "    <tr>\n",
              "      <th>Conservative</th>\n",
              "      <td>0.000000</td>\n",
              "      <td>0.000000</td>\n",
              "      <td>0.000000</td>\n",
              "      <td>913.000000</td>\n",
              "    </tr>\n",
              "    <tr>\n",
              "      <th>Liberal</th>\n",
              "      <td>0.644885</td>\n",
              "      <td>1.000000</td>\n",
              "      <td>0.784110</td>\n",
              "      <td>1658.000000</td>\n",
              "    </tr>\n",
              "    <tr>\n",
              "      <th>accuracy</th>\n",
              "      <td>0.644885</td>\n",
              "      <td>0.644885</td>\n",
              "      <td>0.644885</td>\n",
              "      <td>0.644885</td>\n",
              "    </tr>\n",
              "    <tr>\n",
              "      <th>macro avg</th>\n",
              "      <td>0.322443</td>\n",
              "      <td>0.500000</td>\n",
              "      <td>0.392055</td>\n",
              "      <td>2571.000000</td>\n",
              "    </tr>\n",
              "    <tr>\n",
              "      <th>weighted avg</th>\n",
              "      <td>0.415877</td>\n",
              "      <td>0.644885</td>\n",
              "      <td>0.505661</td>\n",
              "      <td>2571.000000</td>\n",
              "    </tr>\n",
              "  </tbody>\n",
              "</table>\n",
              "</div>"
            ],
            "text/plain": [
              "              precision    recall  f1-score      support\n",
              "Conservative   0.000000  0.000000  0.000000   913.000000\n",
              "Liberal        0.644885  1.000000  0.784110  1658.000000\n",
              "accuracy       0.644885  0.644885  0.644885     0.644885\n",
              "macro avg      0.322443  0.500000  0.392055  2571.000000\n",
              "weighted avg   0.415877  0.644885  0.505661  2571.000000"
            ]
          },
          "metadata": {},
          "output_type": "display_data"
        }
      ],
      "source": [
        "# Naive Bayes + Universal Sentence Encoder\n",
        "results['USE']['NB']  = train_and_evaluate_nb(X_train_embeddings, X_test_embeddings , y_train, y_test)\n",
        "display(results['USE']['NB'])"
      ]
    },
    {
      "cell_type": "code",
      "execution_count": 20,
      "metadata": {
        "colab": {
          "base_uri": "https://localhost:8080/",
          "height": 206
        },
        "id": "Mp8dr1dodWTm",
        "outputId": "cfa8ee7e-d46f-4bcf-def2-1011612f80c4"
      },
      "outputs": [
        {
          "data": {
            "text/html": [
              "<div>\n",
              "<style scoped>\n",
              "    .dataframe tbody tr th:only-of-type {\n",
              "        vertical-align: middle;\n",
              "    }\n",
              "\n",
              "    .dataframe tbody tr th {\n",
              "        vertical-align: top;\n",
              "    }\n",
              "\n",
              "    .dataframe thead th {\n",
              "        text-align: right;\n",
              "    }\n",
              "</style>\n",
              "<table border=\"1\" class=\"dataframe\">\n",
              "  <thead>\n",
              "    <tr style=\"text-align: right;\">\n",
              "      <th></th>\n",
              "      <th>precision</th>\n",
              "      <th>recall</th>\n",
              "      <th>f1-score</th>\n",
              "      <th>support</th>\n",
              "    </tr>\n",
              "  </thead>\n",
              "  <tbody>\n",
              "    <tr>\n",
              "      <th>Conservative</th>\n",
              "      <td>0.422456</td>\n",
              "      <td>0.572837</td>\n",
              "      <td>0.486285</td>\n",
              "      <td>913.000000</td>\n",
              "    </tr>\n",
              "    <tr>\n",
              "      <th>Liberal</th>\n",
              "      <td>0.707427</td>\n",
              "      <td>0.568758</td>\n",
              "      <td>0.630558</td>\n",
              "      <td>1658.000000</td>\n",
              "    </tr>\n",
              "    <tr>\n",
              "      <th>accuracy</th>\n",
              "      <td>0.570206</td>\n",
              "      <td>0.570206</td>\n",
              "      <td>0.570206</td>\n",
              "      <td>0.570206</td>\n",
              "    </tr>\n",
              "    <tr>\n",
              "      <th>macro avg</th>\n",
              "      <td>0.564941</td>\n",
              "      <td>0.570797</td>\n",
              "      <td>0.558422</td>\n",
              "      <td>2571.000000</td>\n",
              "    </tr>\n",
              "    <tr>\n",
              "      <th>weighted avg</th>\n",
              "      <td>0.606229</td>\n",
              "      <td>0.570206</td>\n",
              "      <td>0.579325</td>\n",
              "      <td>2571.000000</td>\n",
              "    </tr>\n",
              "  </tbody>\n",
              "</table>\n",
              "</div>"
            ],
            "text/plain": [
              "              precision    recall  f1-score      support\n",
              "Conservative   0.422456  0.572837  0.486285   913.000000\n",
              "Liberal        0.707427  0.568758  0.630558  1658.000000\n",
              "accuracy       0.570206  0.570206  0.570206     0.570206\n",
              "macro avg      0.564941  0.570797  0.558422  2571.000000\n",
              "weighted avg   0.606229  0.570206  0.579325  2571.000000"
            ]
          },
          "metadata": {},
          "output_type": "display_data"
        }
      ],
      "source": [
        "# KNN + TfidfVectorizer\n",
        "results['TfidfVectorizer']['KNN'] = train_and_evaluate_knn(X_train_vectorized, X_test_vectorized, y_train, y_test)\n",
        "display(results['TfidfVectorizer']['KNN'])"
      ]
    },
    {
      "cell_type": "code",
      "execution_count": 21,
      "metadata": {
        "colab": {
          "base_uri": "https://localhost:8080/",
          "height": 206
        },
        "id": "HkHg-FwxdpRy",
        "outputId": "850e6c38-480b-408a-cf3e-5d3733189b10"
      },
      "outputs": [
        {
          "data": {
            "text/html": [
              "<div>\n",
              "<style scoped>\n",
              "    .dataframe tbody tr th:only-of-type {\n",
              "        vertical-align: middle;\n",
              "    }\n",
              "\n",
              "    .dataframe tbody tr th {\n",
              "        vertical-align: top;\n",
              "    }\n",
              "\n",
              "    .dataframe thead th {\n",
              "        text-align: right;\n",
              "    }\n",
              "</style>\n",
              "<table border=\"1\" class=\"dataframe\">\n",
              "  <thead>\n",
              "    <tr style=\"text-align: right;\">\n",
              "      <th></th>\n",
              "      <th>precision</th>\n",
              "      <th>recall</th>\n",
              "      <th>f1-score</th>\n",
              "      <th>support</th>\n",
              "    </tr>\n",
              "  </thead>\n",
              "  <tbody>\n",
              "    <tr>\n",
              "      <th>Conservative</th>\n",
              "      <td>0.457847</td>\n",
              "      <td>0.386637</td>\n",
              "      <td>0.419240</td>\n",
              "      <td>913.000000</td>\n",
              "    </tr>\n",
              "    <tr>\n",
              "      <th>Liberal</th>\n",
              "      <td>0.688889</td>\n",
              "      <td>0.747889</td>\n",
              "      <td>0.717178</td>\n",
              "      <td>1658.000000</td>\n",
              "    </tr>\n",
              "    <tr>\n",
              "      <th>accuracy</th>\n",
              "      <td>0.619603</td>\n",
              "      <td>0.619603</td>\n",
              "      <td>0.619603</td>\n",
              "      <td>0.619603</td>\n",
              "    </tr>\n",
              "    <tr>\n",
              "      <th>macro avg</th>\n",
              "      <td>0.573368</td>\n",
              "      <td>0.567263</td>\n",
              "      <td>0.568209</td>\n",
              "      <td>2571.000000</td>\n",
              "    </tr>\n",
              "    <tr>\n",
              "      <th>weighted avg</th>\n",
              "      <td>0.606842</td>\n",
              "      <td>0.619603</td>\n",
              "      <td>0.611376</td>\n",
              "      <td>2571.000000</td>\n",
              "    </tr>\n",
              "  </tbody>\n",
              "</table>\n",
              "</div>"
            ],
            "text/plain": [
              "              precision    recall  f1-score      support\n",
              "Conservative   0.457847  0.386637  0.419240   913.000000\n",
              "Liberal        0.688889  0.747889  0.717178  1658.000000\n",
              "accuracy       0.619603  0.619603  0.619603     0.619603\n",
              "macro avg      0.573368  0.567263  0.568209  2571.000000\n",
              "weighted avg   0.606842  0.619603  0.611376  2571.000000"
            ]
          },
          "metadata": {},
          "output_type": "display_data"
        }
      ],
      "source": [
        "# KNN + CountVectorizer\n",
        "results['CountVectorizer']['KNN']  = train_and_evaluate_knn(X_train_count, X_test_count, y_train, y_test)\n",
        "display(results['CountVectorizer']['KNN'])"
      ]
    },
    {
      "cell_type": "code",
      "execution_count": 22,
      "metadata": {
        "colab": {
          "base_uri": "https://localhost:8080/",
          "height": 206
        },
        "id": "Dh3biF-4eq2C",
        "outputId": "91631cd2-7b4c-417c-fb3e-22435fd4883c"
      },
      "outputs": [
        {
          "data": {
            "text/html": [
              "<div>\n",
              "<style scoped>\n",
              "    .dataframe tbody tr th:only-of-type {\n",
              "        vertical-align: middle;\n",
              "    }\n",
              "\n",
              "    .dataframe tbody tr th {\n",
              "        vertical-align: top;\n",
              "    }\n",
              "\n",
              "    .dataframe thead th {\n",
              "        text-align: right;\n",
              "    }\n",
              "</style>\n",
              "<table border=\"1\" class=\"dataframe\">\n",
              "  <thead>\n",
              "    <tr style=\"text-align: right;\">\n",
              "      <th></th>\n",
              "      <th>precision</th>\n",
              "      <th>recall</th>\n",
              "      <th>f1-score</th>\n",
              "      <th>support</th>\n",
              "    </tr>\n",
              "  </thead>\n",
              "  <tbody>\n",
              "    <tr>\n",
              "      <th>Conservative</th>\n",
              "      <td>0.671217</td>\n",
              "      <td>0.646221</td>\n",
              "      <td>0.658482</td>\n",
              "      <td>913.00000</td>\n",
              "    </tr>\n",
              "    <tr>\n",
              "      <th>Liberal</th>\n",
              "      <td>0.809102</td>\n",
              "      <td>0.825694</td>\n",
              "      <td>0.817313</td>\n",
              "      <td>1658.00000</td>\n",
              "    </tr>\n",
              "    <tr>\n",
              "      <th>accuracy</th>\n",
              "      <td>0.761960</td>\n",
              "      <td>0.761960</td>\n",
              "      <td>0.761960</td>\n",
              "      <td>0.76196</td>\n",
              "    </tr>\n",
              "    <tr>\n",
              "      <th>macro avg</th>\n",
              "      <td>0.740159</td>\n",
              "      <td>0.735957</td>\n",
              "      <td>0.737898</td>\n",
              "      <td>2571.00000</td>\n",
              "    </tr>\n",
              "    <tr>\n",
              "      <th>weighted avg</th>\n",
              "      <td>0.760137</td>\n",
              "      <td>0.761960</td>\n",
              "      <td>0.760910</td>\n",
              "      <td>2571.00000</td>\n",
              "    </tr>\n",
              "  </tbody>\n",
              "</table>\n",
              "</div>"
            ],
            "text/plain": [
              "              precision    recall  f1-score     support\n",
              "Conservative   0.671217  0.646221  0.658482   913.00000\n",
              "Liberal        0.809102  0.825694  0.817313  1658.00000\n",
              "accuracy       0.761960  0.761960  0.761960     0.76196\n",
              "macro avg      0.740159  0.735957  0.737898  2571.00000\n",
              "weighted avg   0.760137  0.761960  0.760910  2571.00000"
            ]
          },
          "metadata": {},
          "output_type": "display_data"
        }
      ],
      "source": [
        "# KNN + Universal Sentence Encoder\n",
        "results['USE']['KNN'] = train_and_evaluate_knn(X_train_embeddings.numpy(), X_test_embeddings.numpy(), y_train, y_test)\n",
        "display(results['USE']['KNN'])"
      ]
    },
    {
      "cell_type": "code",
      "execution_count": 23,
      "metadata": {
        "colab": {
          "base_uri": "https://localhost:8080/",
          "height": 206
        },
        "id": "kPcnTx2_e9w-",
        "outputId": "5ca0472c-61f9-4c6b-a1a7-4c5fc5edbb82"
      },
      "outputs": [
        {
          "data": {
            "text/html": [
              "<div>\n",
              "<style scoped>\n",
              "    .dataframe tbody tr th:only-of-type {\n",
              "        vertical-align: middle;\n",
              "    }\n",
              "\n",
              "    .dataframe tbody tr th {\n",
              "        vertical-align: top;\n",
              "    }\n",
              "\n",
              "    .dataframe thead th {\n",
              "        text-align: right;\n",
              "    }\n",
              "</style>\n",
              "<table border=\"1\" class=\"dataframe\">\n",
              "  <thead>\n",
              "    <tr style=\"text-align: right;\">\n",
              "      <th></th>\n",
              "      <th>precision</th>\n",
              "      <th>recall</th>\n",
              "      <th>f1-score</th>\n",
              "      <th>support</th>\n",
              "    </tr>\n",
              "  </thead>\n",
              "  <tbody>\n",
              "    <tr>\n",
              "      <th>Conservative</th>\n",
              "      <td>0.773050</td>\n",
              "      <td>0.477547</td>\n",
              "      <td>0.590386</td>\n",
              "      <td>913.000000</td>\n",
              "    </tr>\n",
              "    <tr>\n",
              "      <th>Liberal</th>\n",
              "      <td>0.762332</td>\n",
              "      <td>0.922799</td>\n",
              "      <td>0.834925</td>\n",
              "      <td>1658.000000</td>\n",
              "    </tr>\n",
              "    <tr>\n",
              "      <th>accuracy</th>\n",
              "      <td>0.764683</td>\n",
              "      <td>0.764683</td>\n",
              "      <td>0.764683</td>\n",
              "      <td>0.764683</td>\n",
              "    </tr>\n",
              "    <tr>\n",
              "      <th>macro avg</th>\n",
              "      <td>0.767691</td>\n",
              "      <td>0.700173</td>\n",
              "      <td>0.712655</td>\n",
              "      <td>2571.000000</td>\n",
              "    </tr>\n",
              "    <tr>\n",
              "      <th>weighted avg</th>\n",
              "      <td>0.766138</td>\n",
              "      <td>0.764683</td>\n",
              "      <td>0.748086</td>\n",
              "      <td>2571.000000</td>\n",
              "    </tr>\n",
              "  </tbody>\n",
              "</table>\n",
              "</div>"
            ],
            "text/plain": [
              "              precision    recall  f1-score      support\n",
              "Conservative   0.773050  0.477547  0.590386   913.000000\n",
              "Liberal        0.762332  0.922799  0.834925  1658.000000\n",
              "accuracy       0.764683  0.764683  0.764683     0.764683\n",
              "macro avg      0.767691  0.700173  0.712655  2571.000000\n",
              "weighted avg   0.766138  0.764683  0.748086  2571.000000"
            ]
          },
          "metadata": {},
          "output_type": "display_data"
        }
      ],
      "source": [
        "#  Logistic Regression + TfidfVectorizer\n",
        "results['TfidfVectorizer']['LR'] = train_and_evaluate_logit(X_train_vectorized, X_test_vectorized, y_train, y_test)\n",
        "display(results['TfidfVectorizer']['LR'])"
      ]
    },
    {
      "cell_type": "code",
      "execution_count": 24,
      "metadata": {
        "colab": {
          "base_uri": "https://localhost:8080/",
          "height": 345
        },
        "id": "Gg0iUJ_Safwq",
        "outputId": "2e2798c5-02ef-45d1-9076-c2ce9d1d80a8"
      },
      "outputs": [
        {
          "name": "stderr",
          "output_type": "stream",
          "text": [
            "/Users/kseniakoldaeva/anaconda3/lib/python3.11/site-packages/sklearn/linear_model/_logistic.py:460: ConvergenceWarning: lbfgs failed to converge (status=1):\n",
            "STOP: TOTAL NO. of ITERATIONS REACHED LIMIT.\n",
            "\n",
            "Increase the number of iterations (max_iter) or scale the data as shown in:\n",
            "    https://scikit-learn.org/stable/modules/preprocessing.html\n",
            "Please also refer to the documentation for alternative solver options:\n",
            "    https://scikit-learn.org/stable/modules/linear_model.html#logistic-regression\n",
            "  n_iter_i = _check_optimize_result(\n"
          ]
        },
        {
          "data": {
            "text/html": [
              "<div>\n",
              "<style scoped>\n",
              "    .dataframe tbody tr th:only-of-type {\n",
              "        vertical-align: middle;\n",
              "    }\n",
              "\n",
              "    .dataframe tbody tr th {\n",
              "        vertical-align: top;\n",
              "    }\n",
              "\n",
              "    .dataframe thead th {\n",
              "        text-align: right;\n",
              "    }\n",
              "</style>\n",
              "<table border=\"1\" class=\"dataframe\">\n",
              "  <thead>\n",
              "    <tr style=\"text-align: right;\">\n",
              "      <th></th>\n",
              "      <th>precision</th>\n",
              "      <th>recall</th>\n",
              "      <th>f1-score</th>\n",
              "      <th>support</th>\n",
              "    </tr>\n",
              "  </thead>\n",
              "  <tbody>\n",
              "    <tr>\n",
              "      <th>Conservative</th>\n",
              "      <td>0.710561</td>\n",
              "      <td>0.596933</td>\n",
              "      <td>0.648810</td>\n",
              "      <td>913.000000</td>\n",
              "    </tr>\n",
              "    <tr>\n",
              "      <th>Liberal</th>\n",
              "      <td>0.796009</td>\n",
              "      <td>0.866104</td>\n",
              "      <td>0.829578</td>\n",
              "      <td>1658.000000</td>\n",
              "    </tr>\n",
              "    <tr>\n",
              "      <th>accuracy</th>\n",
              "      <td>0.770517</td>\n",
              "      <td>0.770517</td>\n",
              "      <td>0.770517</td>\n",
              "      <td>0.770517</td>\n",
              "    </tr>\n",
              "    <tr>\n",
              "      <th>macro avg</th>\n",
              "      <td>0.753285</td>\n",
              "      <td>0.731518</td>\n",
              "      <td>0.739194</td>\n",
              "      <td>2571.000000</td>\n",
              "    </tr>\n",
              "    <tr>\n",
              "      <th>weighted avg</th>\n",
              "      <td>0.765665</td>\n",
              "      <td>0.770517</td>\n",
              "      <td>0.765385</td>\n",
              "      <td>2571.000000</td>\n",
              "    </tr>\n",
              "  </tbody>\n",
              "</table>\n",
              "</div>"
            ],
            "text/plain": [
              "              precision    recall  f1-score      support\n",
              "Conservative   0.710561  0.596933  0.648810   913.000000\n",
              "Liberal        0.796009  0.866104  0.829578  1658.000000\n",
              "accuracy       0.770517  0.770517  0.770517     0.770517\n",
              "macro avg      0.753285  0.731518  0.739194  2571.000000\n",
              "weighted avg   0.765665  0.770517  0.765385  2571.000000"
            ]
          },
          "metadata": {},
          "output_type": "display_data"
        }
      ],
      "source": [
        "# Logistic Regression + CountVectorizer\n",
        "results['CountVectorizer']['LR'] = train_and_evaluate_logit(X_train_count, X_test_count, y_train, y_test)\n",
        "display(results['CountVectorizer']['LR'])"
      ]
    },
    {
      "cell_type": "code",
      "execution_count": 25,
      "metadata": {
        "colab": {
          "base_uri": "https://localhost:8080/",
          "height": 206
        },
        "id": "1786JBiDfOoK",
        "outputId": "9ed8427c-0f07-4cda-c12a-2fb3e45bbc84"
      },
      "outputs": [
        {
          "data": {
            "text/html": [
              "<div>\n",
              "<style scoped>\n",
              "    .dataframe tbody tr th:only-of-type {\n",
              "        vertical-align: middle;\n",
              "    }\n",
              "\n",
              "    .dataframe tbody tr th {\n",
              "        vertical-align: top;\n",
              "    }\n",
              "\n",
              "    .dataframe thead th {\n",
              "        text-align: right;\n",
              "    }\n",
              "</style>\n",
              "<table border=\"1\" class=\"dataframe\">\n",
              "  <thead>\n",
              "    <tr style=\"text-align: right;\">\n",
              "      <th></th>\n",
              "      <th>precision</th>\n",
              "      <th>recall</th>\n",
              "      <th>f1-score</th>\n",
              "      <th>support</th>\n",
              "    </tr>\n",
              "  </thead>\n",
              "  <tbody>\n",
              "    <tr>\n",
              "      <th>Conservative</th>\n",
              "      <td>0.649148</td>\n",
              "      <td>0.500548</td>\n",
              "      <td>0.565244</td>\n",
              "      <td>913.000000</td>\n",
              "    </tr>\n",
              "    <tr>\n",
              "      <th>Liberal</th>\n",
              "      <td>0.755758</td>\n",
              "      <td>0.851025</td>\n",
              "      <td>0.800567</td>\n",
              "      <td>1658.000000</td>\n",
              "    </tr>\n",
              "    <tr>\n",
              "      <th>accuracy</th>\n",
              "      <td>0.726566</td>\n",
              "      <td>0.726566</td>\n",
              "      <td>0.726566</td>\n",
              "      <td>0.726566</td>\n",
              "    </tr>\n",
              "    <tr>\n",
              "      <th>macro avg</th>\n",
              "      <td>0.702453</td>\n",
              "      <td>0.675786</td>\n",
              "      <td>0.682906</td>\n",
              "      <td>2571.000000</td>\n",
              "    </tr>\n",
              "    <tr>\n",
              "      <th>weighted avg</th>\n",
              "      <td>0.717899</td>\n",
              "      <td>0.726566</td>\n",
              "      <td>0.717001</td>\n",
              "      <td>2571.000000</td>\n",
              "    </tr>\n",
              "  </tbody>\n",
              "</table>\n",
              "</div>"
            ],
            "text/plain": [
              "              precision    recall  f1-score      support\n",
              "Conservative   0.649148  0.500548  0.565244   913.000000\n",
              "Liberal        0.755758  0.851025  0.800567  1658.000000\n",
              "accuracy       0.726566  0.726566  0.726566     0.726566\n",
              "macro avg      0.702453  0.675786  0.682906  2571.000000\n",
              "weighted avg   0.717899  0.726566  0.717001  2571.000000"
            ]
          },
          "metadata": {},
          "output_type": "display_data"
        }
      ],
      "source": [
        "# Logistic Regression + Universal Sentence Encoder\n",
        "\n",
        "results['USE']['LR'] = train_and_evaluate_logit(X_train_embeddings.numpy(), X_test_embeddings.numpy(), y_train, y_test)\n",
        "display(results['USE']['LR'])"
      ]
    },
    {
      "cell_type": "code",
      "execution_count": 26,
      "metadata": {
        "colab": {
          "base_uri": "https://localhost:8080/",
          "height": 206
        },
        "id": "NJTiaGFemVIa",
        "outputId": "791653af-4aee-4b70-a955-a3e79bc1c07d"
      },
      "outputs": [
        {
          "data": {
            "text/html": [
              "<div>\n",
              "<style scoped>\n",
              "    .dataframe tbody tr th:only-of-type {\n",
              "        vertical-align: middle;\n",
              "    }\n",
              "\n",
              "    .dataframe tbody tr th {\n",
              "        vertical-align: top;\n",
              "    }\n",
              "\n",
              "    .dataframe thead th {\n",
              "        text-align: right;\n",
              "    }\n",
              "</style>\n",
              "<table border=\"1\" class=\"dataframe\">\n",
              "  <thead>\n",
              "    <tr style=\"text-align: right;\">\n",
              "      <th></th>\n",
              "      <th>precision</th>\n",
              "      <th>recall</th>\n",
              "      <th>f1-score</th>\n",
              "      <th>support</th>\n",
              "    </tr>\n",
              "  </thead>\n",
              "  <tbody>\n",
              "    <tr>\n",
              "      <th>Conservative</th>\n",
              "      <td>0.781469</td>\n",
              "      <td>0.489595</td>\n",
              "      <td>0.602020</td>\n",
              "      <td>913.000000</td>\n",
              "    </tr>\n",
              "    <tr>\n",
              "      <th>Liberal</th>\n",
              "      <td>0.766883</td>\n",
              "      <td>0.924608</td>\n",
              "      <td>0.838392</td>\n",
              "      <td>1658.000000</td>\n",
              "    </tr>\n",
              "    <tr>\n",
              "      <th>accuracy</th>\n",
              "      <td>0.770128</td>\n",
              "      <td>0.770128</td>\n",
              "      <td>0.770128</td>\n",
              "      <td>0.770128</td>\n",
              "    </tr>\n",
              "    <tr>\n",
              "      <th>macro avg</th>\n",
              "      <td>0.774176</td>\n",
              "      <td>0.707101</td>\n",
              "      <td>0.720206</td>\n",
              "      <td>2571.000000</td>\n",
              "    </tr>\n",
              "    <tr>\n",
              "      <th>weighted avg</th>\n",
              "      <td>0.772063</td>\n",
              "      <td>0.770128</td>\n",
              "      <td>0.754453</td>\n",
              "      <td>2571.000000</td>\n",
              "    </tr>\n",
              "  </tbody>\n",
              "</table>\n",
              "</div>"
            ],
            "text/plain": [
              "              precision    recall  f1-score      support\n",
              "Conservative   0.781469  0.489595  0.602020   913.000000\n",
              "Liberal        0.766883  0.924608  0.838392  1658.000000\n",
              "accuracy       0.770128  0.770128  0.770128     0.770128\n",
              "macro avg      0.774176  0.707101  0.720206  2571.000000\n",
              "weighted avg   0.772063  0.770128  0.754453  2571.000000"
            ]
          },
          "metadata": {},
          "output_type": "display_data"
        }
      ],
      "source": [
        "# Random Forest + TfidfVectorizer\n",
        "results['TfidfVectorizer']['RF'] = train_and_evaluate_rand_forest(X_train_vectorized, X_test_vectorized, y_train, y_test)\n",
        "display(results['TfidfVectorizer']['RF'] )"
      ]
    },
    {
      "cell_type": "code",
      "execution_count": 27,
      "metadata": {
        "colab": {
          "base_uri": "https://localhost:8080/",
          "height": 206
        },
        "id": "bUHfWyRImU-t",
        "outputId": "79ba1ad8-6e0a-41bb-c6e8-393666cfad70"
      },
      "outputs": [
        {
          "data": {
            "text/html": [
              "<div>\n",
              "<style scoped>\n",
              "    .dataframe tbody tr th:only-of-type {\n",
              "        vertical-align: middle;\n",
              "    }\n",
              "\n",
              "    .dataframe tbody tr th {\n",
              "        vertical-align: top;\n",
              "    }\n",
              "\n",
              "    .dataframe thead th {\n",
              "        text-align: right;\n",
              "    }\n",
              "</style>\n",
              "<table border=\"1\" class=\"dataframe\">\n",
              "  <thead>\n",
              "    <tr style=\"text-align: right;\">\n",
              "      <th></th>\n",
              "      <th>precision</th>\n",
              "      <th>recall</th>\n",
              "      <th>f1-score</th>\n",
              "      <th>support</th>\n",
              "    </tr>\n",
              "  </thead>\n",
              "  <tbody>\n",
              "    <tr>\n",
              "      <th>Conservative</th>\n",
              "      <td>0.791667</td>\n",
              "      <td>0.520263</td>\n",
              "      <td>0.627892</td>\n",
              "      <td>913.000000</td>\n",
              "    </tr>\n",
              "    <tr>\n",
              "      <th>Liberal</th>\n",
              "      <td>0.777778</td>\n",
              "      <td>0.924608</td>\n",
              "      <td>0.844861</td>\n",
              "      <td>1658.000000</td>\n",
              "    </tr>\n",
              "    <tr>\n",
              "      <th>accuracy</th>\n",
              "      <td>0.781019</td>\n",
              "      <td>0.781019</td>\n",
              "      <td>0.781019</td>\n",
              "      <td>0.781019</td>\n",
              "    </tr>\n",
              "    <tr>\n",
              "      <th>macro avg</th>\n",
              "      <td>0.784722</td>\n",
              "      <td>0.722435</td>\n",
              "      <td>0.736376</td>\n",
              "      <td>2571.000000</td>\n",
              "    </tr>\n",
              "    <tr>\n",
              "      <th>weighted avg</th>\n",
              "      <td>0.782710</td>\n",
              "      <td>0.781019</td>\n",
              "      <td>0.767812</td>\n",
              "      <td>2571.000000</td>\n",
              "    </tr>\n",
              "  </tbody>\n",
              "</table>\n",
              "</div>"
            ],
            "text/plain": [
              "              precision    recall  f1-score      support\n",
              "Conservative   0.791667  0.520263  0.627892   913.000000\n",
              "Liberal        0.777778  0.924608  0.844861  1658.000000\n",
              "accuracy       0.781019  0.781019  0.781019     0.781019\n",
              "macro avg      0.784722  0.722435  0.736376  2571.000000\n",
              "weighted avg   0.782710  0.781019  0.767812  2571.000000"
            ]
          },
          "metadata": {},
          "output_type": "display_data"
        }
      ],
      "source": [
        "# Random Forest + CountVectorizer\n",
        "results['CountVectorizer']['RF'] = train_and_evaluate_rand_forest(X_train_count, X_test_count, y_train, y_test)\n",
        "display(results['CountVectorizer']['RF'])"
      ]
    },
    {
      "cell_type": "code",
      "execution_count": 28,
      "metadata": {
        "colab": {
          "base_uri": "https://localhost:8080/",
          "height": 206
        },
        "id": "00ihM5NImVP0",
        "outputId": "e361e261-582b-4dfa-8980-801aad9054e4"
      },
      "outputs": [
        {
          "data": {
            "text/html": [
              "<div>\n",
              "<style scoped>\n",
              "    .dataframe tbody tr th:only-of-type {\n",
              "        vertical-align: middle;\n",
              "    }\n",
              "\n",
              "    .dataframe tbody tr th {\n",
              "        vertical-align: top;\n",
              "    }\n",
              "\n",
              "    .dataframe thead th {\n",
              "        text-align: right;\n",
              "    }\n",
              "</style>\n",
              "<table border=\"1\" class=\"dataframe\">\n",
              "  <thead>\n",
              "    <tr style=\"text-align: right;\">\n",
              "      <th></th>\n",
              "      <th>precision</th>\n",
              "      <th>recall</th>\n",
              "      <th>f1-score</th>\n",
              "      <th>support</th>\n",
              "    </tr>\n",
              "  </thead>\n",
              "  <tbody>\n",
              "    <tr>\n",
              "      <th>Conservative</th>\n",
              "      <td>0.804938</td>\n",
              "      <td>0.357065</td>\n",
              "      <td>0.494689</td>\n",
              "      <td>913.000000</td>\n",
              "    </tr>\n",
              "    <tr>\n",
              "      <th>Liberal</th>\n",
              "      <td>0.728994</td>\n",
              "      <td>0.952352</td>\n",
              "      <td>0.825837</td>\n",
              "      <td>1658.000000</td>\n",
              "    </tr>\n",
              "    <tr>\n",
              "      <th>accuracy</th>\n",
              "      <td>0.740957</td>\n",
              "      <td>0.740957</td>\n",
              "      <td>0.740957</td>\n",
              "      <td>0.740957</td>\n",
              "    </tr>\n",
              "    <tr>\n",
              "      <th>macro avg</th>\n",
              "      <td>0.766966</td>\n",
              "      <td>0.654708</td>\n",
              "      <td>0.660263</td>\n",
              "      <td>2571.000000</td>\n",
              "    </tr>\n",
              "    <tr>\n",
              "      <th>weighted avg</th>\n",
              "      <td>0.755963</td>\n",
              "      <td>0.740957</td>\n",
              "      <td>0.708241</td>\n",
              "      <td>2571.000000</td>\n",
              "    </tr>\n",
              "  </tbody>\n",
              "</table>\n",
              "</div>"
            ],
            "text/plain": [
              "              precision    recall  f1-score      support\n",
              "Conservative   0.804938  0.357065  0.494689   913.000000\n",
              "Liberal        0.728994  0.952352  0.825837  1658.000000\n",
              "accuracy       0.740957  0.740957  0.740957     0.740957\n",
              "macro avg      0.766966  0.654708  0.660263  2571.000000\n",
              "weighted avg   0.755963  0.740957  0.708241  2571.000000"
            ]
          },
          "metadata": {},
          "output_type": "display_data"
        }
      ],
      "source": [
        "# Random Forest + Universal Sentence Encoder\n",
        "results['USE']['RF'] = train_and_evaluate_rand_forest(X_train_embeddings.numpy(), X_test_embeddings.numpy(), y_train, y_test)\n",
        "display(results['USE']['RF'])"
      ]
    },
    {
      "cell_type": "markdown",
      "metadata": {
        "id": "zyc5giyQpYUB"
      },
      "source": [
        "# Accuracy Check"
      ]
    },
    {
      "cell_type": "code",
      "execution_count": 29,
      "metadata": {
        "colab": {
          "base_uri": "https://localhost:8080/",
          "height": 668
        },
        "id": "6kVNnkFCpYUB",
        "outputId": "64a32247-8d49-4065-b78d-6543a1227060"
      },
      "outputs": [
        {
          "data": {
            "text/plain": [
              "(array([0, 1, 2, 3, 4]),\n",
              " [Text(0, 0, 'SVM'),\n",
              "  Text(1, 0, 'NB'),\n",
              "  Text(2, 0, 'KNN'),\n",
              "  Text(3, 0, 'LR'),\n",
              "  Text(4, 0, 'RF')])"
            ]
          },
          "execution_count": 29,
          "metadata": {},
          "output_type": "execute_result"
        },
        {
          "data": {
            "image/png": "[encoded data removed]",
            "text/plain": [
              "<Figure size 1000x600 with 1 Axes>"
            ]
          },
          "metadata": {},
          "output_type": "display_data"
        }
      ],
      "source": [
        "def extract_accuracies(data):\n",
        "    \"\"\"\n",
        "    Extract accuracies from a nested dictionary where the innermost elements are DataFrames.\n",
        "    \"\"\"\n",
        "    accuracies = {}\n",
        "    for vectorizer, models in data.items():\n",
        "        accuracies[vectorizer] = {}\n",
        "        for model, df in models.items():\n",
        "            # Extracting the accuracy value\n",
        "            accuracy = df.loc['accuracy', 'support']\n",
        "            accuracies[vectorizer][model] = accuracy\n",
        "    return accuracies\n",
        "\n",
        "\n",
        "accuracy_dict_from_df = extract_accuracies(results)\n",
        "accuracy_df_full = pd.DataFrame(accuracy_dict_from_df)\n",
        "\n",
        "ax = accuracy_df_full.plot(kind='bar', figsize=(10, 6), width=0.8, color=['skyblue', 'lightgreen', 'salmon'])\n",
        "\n",
        "ax.set_title('Accuracy Comparison')\n",
        "ax.set_ylabel('Accuracy')\n",
        "ax.set_xlabel('Models')\n",
        "ax.legend(title='Vectorizers / Embedding Models', loc='upper left', bbox_to_anchor=(1, 1))\n",
        "\n",
        "# Adding numbers on top of each bar\n",
        "for p in ax.patches:\n",
        "    ax.annotate(f\"{p.get_height():.2f}\", (p.get_x() + p.get_width() / 2., p.get_height()),\n",
        "                ha='center', va='center', xytext=(0, 10), textcoords='offset points')\n",
        "\n",
        "plt.xticks(rotation=0)"
      ]
    },
    {
      "cell_type": "code",
      "execution_count": 30,
      "metadata": {
        "colab": {
          "base_uri": "https://localhost:8080/",
          "height": 638
        },
        "id": "KKaxOQ6apYUB",
        "outputId": "bdd69133-0988-470a-92ce-7df2fa5b3bea"
      },
      "outputs": [
        {
          "data": {
            "image/png": "[encoded data removed]",
            "text/plain": [
              "<Figure size 1000x600 with 2 Axes>"
            ]
          },
          "metadata": {},
          "output_type": "display_data"
        }
      ],
      "source": [
        "plt.figure(figsize=(10, 6))\n",
        "ax = sns.heatmap(accuracy_df_full, annot=True, fmt=\".4f\", cmap=\"coolwarm\")\n",
        "\n",
        "# Setting the title and labels\n",
        "ax.set_title('Accuracy Comparison of Vectorizers and Models')\n",
        "ax.set_xlabel('Vectorizers')\n",
        "ax.set_ylabel('Models')\n",
        "\n",
        "# Adjust layout\n",
        "plt.xticks(rotation=45)\n",
        "plt.yticks(rotation=0)\n",
        "plt.show()"
      ]
    },
    {
      "cell_type": "code",
      "execution_count": 31,
      "metadata": {
        "colab": {
          "base_uri": "https://localhost:8080/"
        },
        "id": "tAh0yQ41pYUB",
        "outputId": "0878a2a5-04a0-43dc-cdde-16c07f8e3ce0"
      },
      "outputs": [
        {
          "name": "stdout",
          "output_type": "stream",
          "text": [
            "1. CountVectorizer with RF\n",
            "\t Accuracy: 0.7810%\n",
            "2. TfidfVectorizer with SVM\n",
            "\t Accuracy: 0.7791%\n",
            "3. USE with SVM\n",
            "\t Accuracy: 0.7760%\n",
            "4. CountVectorizer with LR\n",
            "\t Accuracy: 0.7705%\n",
            "5. TfidfVectorizer with RF\n",
            "\t Accuracy: 0.7701%\n"
          ]
        }
      ],
      "source": [
        "accuracy_series = accuracy_df_full.stack()\n",
        "\n",
        "top_5_accuracies = accuracy_series.sort_values(ascending=False).head(5)\n",
        "top_5_list = list(top_5_accuracies.index)\n",
        "\n",
        "top_5_accuracies_print = \"\\n\".join([\n",
        "    f\"{idx + 1}. {model} with {vectorizer}\\n\\t Accuracy: {accuracy:.4f}%\"\n",
        "    for idx, ((vectorizer, model), accuracy) in enumerate(top_5_accuracies.items())\n",
        "])\n",
        "\n",
        "print(top_5_accuracies_print)"
      ]
    },
    {
      "cell_type": "code",
      "execution_count": 32,
      "metadata": {
        "colab": {
          "base_uri": "https://localhost:8080/",
          "height": 610
        },
        "id": "CstuHe7xpYUC",
        "outputId": "a5eb85e6-82c9-44bf-ebc4-b91f127a3324"
      },
      "outputs": [
        {
          "data": {
            "image/png": "[encoded data removed]",
            "text/plain": [
              "<Figure size 1500x600 with 2 Axes>"
            ]
          },
          "metadata": {},
          "output_type": "display_data"
        }
      ],
      "source": [
        "# Correct calculations for average accuracies\n",
        "\n",
        "# Average accuracy for each model across all vectorizers\n",
        "average_accuracy_per_model_corrected = accuracy_df_full.mean(axis=1)\n",
        "\n",
        "# Average accuracy for each vectorizer across all models\n",
        "average_accuracy_per_vectorizer_corrected = accuracy_df_full.mean(axis=0)\n",
        "\n",
        "# Overall average accuracy across all models and vectorizers\n",
        "overall_average_accuracy_corrected = accuracy_df_full.stack().mean()\n",
        "\n",
        "# Preparing data for visualization\n",
        "model_averages_df = average_accuracy_per_model_corrected.reset_index()\n",
        "model_averages_df.columns = ['Model', 'Average Accuracy']\n",
        "\n",
        "vectorizer_averages_df = average_accuracy_per_vectorizer_corrected.reset_index()\n",
        "vectorizer_averages_df.columns = ['Vectorizer', 'Average Accuracy']\n",
        "\n",
        "# Sorting data\n",
        "model_averages_df_sorted = model_averages_df.sort_values(by='Average Accuracy', ascending=False)\n",
        "vectorizer_averages_df_sorted = vectorizer_averages_df.sort_values(by='Average Accuracy', ascending=False)\n",
        "\n",
        "# Plotting with numbers on bars\n",
        "fig, ax = plt.subplots(1, 2, figsize=(15, 6))\n",
        "\n",
        "# Plot for models\n",
        "model_averages_df_sorted.plot(x='Model', y='Average Accuracy', kind='bar', ax=ax[0], color='skyblue')\n",
        "ax[0].set_title('Average Accuracy per Model')\n",
        "ax[0].set_ylabel('Average Accuracy')\n",
        "ax[0].set_xlabel('Model')\n",
        "ax[0].legend(title='Model', loc='upper left', bbox_to_anchor=(1, 1))\n",
        "# Adding numbers on top of each bar for models\n",
        "for p in ax[0].patches:\n",
        "    ax[0].annotate(f\"{p.get_height():.2f}\", (p.get_x() + p.get_width() / 2., p.get_height()),\n",
        "                   ha='center', va='center', xytext=(0, 10), textcoords='offset points')\n",
        "\n",
        "# Plot for vectorizers\n",
        "vectorizer_averages_df_sorted.plot(x='Vectorizer', y='Average Accuracy', kind='bar', ax=ax[1], color='lightgreen')\n",
        "ax[1].set_title('Average Accuracy per Vectorizer')\n",
        "ax[1].set_ylabel('Average Accuracy')\n",
        "ax[1].set_xlabel('Vectorizer')\n",
        "ax[1].legend(title='Vectorizer', loc='upper left', bbox_to_anchor=(1, 1))\n",
        "# Adding numbers on top of each bar for vectorizers\n",
        "for p in ax[1].patches:\n",
        "    ax[1].annotate(f\"{p.get_height():.2f}\", (p.get_x() + p.get_width() / 2., p.get_height()),\n",
        "                   ha='center', va='center', xytext=(0, 10), textcoords='offset points')\n",
        "\n",
        "plt.suptitle(f'Overall Average Accuracy: {overall_average_accuracy_corrected:.2f}')\n",
        "plt.tight_layout()\n",
        "plt.show()\n"
      ]
    },
    {
      "cell_type": "markdown",
      "metadata": {
        "id": "kReBaqS7pQQz"
      },
      "source": [
        "## Model Selection"
      ]
    },
    {
      "cell_type": "markdown",
      "metadata": {
        "id": "siU-H44456J2"
      },
      "source": [
        "Based on the model performances, the best performing candidate is:\n",
        "   - `Support Vector Machine` with `TfidfVectorizer`.\n",
        "\n",
        "These are surprising results, since `TfidVectorizer` does not reflect the semantics of the Reddit posts. However, vectors created with `TfidVectorizer` reflect the importance of the word in the corpus."
      ]
    },
    {
      "cell_type": "markdown",
      "metadata": {
        "id": "WwJE85bhpXTx"
      },
      "source": [
        "## Conclusion"
      ]
    },
    {
      "cell_type": "markdown",
      "metadata": {
        "id": "rwclZTUw0mu9"
      },
      "source": [
        "None of the techiques created the execptional results - i.e. accuracy for all the classification algorithms was below $80\\%$\n",
        "\n",
        "`Support Vector Machine` algorithm performed the best for classification Reddit posts and for predicting `Political Lean`."
      ]
    }
  ],
  "metadata": {
    "colab": {
      "provenance": []
    },
    "kernelspec": {
      "display_name": "Python 3",
      "name": "python3"
    },
    "language_info": {
      "codemirror_mode": {
        "name": "ipython",
        "version": 3
      },
      "file_extension": ".py",
      "mimetype": "text/x-python",
      "name": "python",
      "nbconvert_exporter": "python",
      "pygments_lexer": "ipython3",
      "version": "3.11.5"
    }
  },
  "nbformat": 4,
  "nbformat_minor": 0
}
